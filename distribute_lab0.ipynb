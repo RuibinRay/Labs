{
  "metadata": {
    "kernelspec": {
      "display_name": "Python 3",
      "language": "python",
      "name": "python3"
    },
    "language_info": {
      "codemirror_mode": {
        "name": "ipython",
        "version": 3
      },
      "file_extension": ".py",
      "mimetype": "text/x-python",
      "name": "python",
      "nbconvert_exporter": "python",
      "pygments_lexer": "ipython3",
      "version": "3.7.6"
    }
  },
  "nbformat": 4,
  "nbformat_minor": 4,
  "cells": [
    {
      "cell_type": "markdown",
      "metadata": {},
      "source": [
        "# Lab 0: Basic Python, Functions, Lists, Strings, and Files"
      ]
    },
    {
      "cell_type": "markdown",
      "metadata": {
        "colab_type": "text",
        "id": "NrzmeT7EcAZB"
      },
      "source": [
        "## EXERCISE 1: A Simple Calculator\n",
        "\n",
        "Here is a fun little calculator which exercises what you have learnt so far.\n",
        "\n",
        "It has only 4 operations - Addition, Subtraction, Multiplication and Divison\n",
        "\n",
        "Notice the use of no-operation `pass`. It allows us to incrementally code by doing nothing to start, and put in functionality over time."
      ]
    },
    {
      "cell_type": "code",
      "execution_count": 24,
      "metadata": {},
      "outputs": [],
      "source": [
        "print(\"Select operation\\n\")\n",
        "print(\"1.Addition\")\n",
        "print(\"2.Subtraction\")\n",
        "print(\"3.Multiplication\")\n",
        "print(\"4.Division\")\n",
        "\n",
        "# Something NEW: Take input from the user \n",
        "choice = input(\"\\nEnter choice(1/2/3/4): \")\n",
        "\n",
        "# We convert the input to a floating-pount(or real) number.\n",
        "\n",
        "num1 = float(input(\"\\nEnter first number: \"))\n",
        "num2 = float(input(\"\\nEnter second number: \"))\n",
        "\n",
        "if choice == '1':\n",
        "    # your code here\n"
      ]
    },
    {
      "cell_type": "markdown",
      "metadata": {},
      "source": [
        "## EXERCISE 2: List like objects and functions on them\n",
        "\n",
        "Materialize lists using \n",
        "\n",
        "1. `range(50)`\n",
        "2. The function application `enumerate(list of alphabets)`\n",
        "3. Write your own enumerate function for a list using the function `zip`."
      ]
    },
    {
      "cell_type": "code",
      "execution_count": 1,
      "metadata": {},
      "outputs": [],
      "source": [
        "# your code here\n"
      ]
    },
    {
      "cell_type": "code",
      "execution_count": 22,
      "metadata": {},
      "outputs": [],
      "source": [
        "# your code here\n"
      ]
    },
    {
      "cell_type": "code",
      "execution_count": 21,
      "metadata": {},
      "outputs": [],
      "source": [
        "# your code here\n"
      ]
    },
    {
      "cell_type": "markdown",
      "metadata": {
        "colab_type": "text",
        "id": "rUe6oWVsvj12"
      },
      "source": [
        "## EXERCISE 3: Count the special characters\n",
        "\n",
        "Consider the string \"HelloWorld,123,ThisIsUniv.Ai\" (not including the quotes). Find the number of uppercase, lowercase, special character and numerical characters.\n"
      ]
    },
    {
      "cell_type": "code",
      "execution_count": 16,
      "metadata": {},
      "outputs": [],
      "source": [
        "my_string = \"HelloWorld,123,ThisIsUniv.Ai\"\n",
        "# your code here\n"
      ]
    },
    {
      "cell_type": "code",
      "execution_count": 20,
      "metadata": {},
      "outputs": [],
      "source": [
        "counter(string.ascii_uppercase, my_string),counter(string.ascii_lowercase, my_string),counter(string.digits, my_string),counter(string.punctuation, my_string)"
      ]
    },
    {
      "cell_type": "markdown",
      "metadata": {},
      "source": [
        "## EXERCISE 4: Read a file and parse words from it\n",
        "\n",
        "Read Julius Caesar. Get each line. Remove newline characters from each line. Split the line to get the words from the line. Lowercase them. Print the first 1000 words, lowercased."
      ]
    },
    {
      "cell_type": "code",
      "execution_count": 25,
      "metadata": {},
      "outputs": [],
      "source": [
        "# your code here\n"
      ]
    },
    {
      "cell_type": "code",
      "execution_count": null,
      "metadata": {},
      "outputs": [],
      "source": []
    }
  ]
}