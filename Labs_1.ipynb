{
 "cells": [
  {
   "cell_type": "code",
   "execution_count": null,
   "id": "a5de0d2f-1d06-4111-a225-936e9d1e28e3",
   "metadata": {},
   "outputs": [],
   "source": [
    "Excercise 1"
   ]
  },
  {
   "cell_type": "code",
   "execution_count": 1,
   "id": "e2d2dacb-8500-4987-ae76-2e6dead5aabd",
   "metadata": {},
   "outputs": [
    {
     "name": "stdout",
     "output_type": "stream",
     "text": [
      "The file julius_caesar.txt was not found.\n",
      "Top 20 words and their counts:\n",
      "\n",
      "Text-based histogram for the top 20 words:\n"
     ]
    }
   ],
   "source": [
    "def read_and_parse_file(file_path):\n",
    "    words = []\n",
    "    try:\n",
    "        with open(file_path, 'r') as file:\n",
    "            for line in file:\n",
    "                # Remove newline characters and split the line into words\n",
    "                line_words = line.strip().split()\n",
    "                # Convert words to lowercase and extend to the words list\n",
    "                words.extend(word.lower() for word in line_words)\n",
    "    except FileNotFoundError:\n",
    "        print(f\"The file {file_path} was not found.\")\n",
    "        return []\n",
    "\n",
    "    return words\n",
    "\n",
    "# Specify the path to the Julius Caesar text file\n",
    "file_path = 'julius_caesar.txt'\n",
    "\n",
    "# Read and parse the file\n",
    "parsed_words = read_and_parse_file(file_path)\n",
    "\n",
    "# Create a dictionary to count word occurrences\n",
    "worddict = {}\n",
    "for word in parsed_words:\n",
    "    if word in worddict:\n",
    "        worddict[word] += 1\n",
    "    else:\n",
    "        worddict[word] = 1\n",
    "\n",
    "# Sort the dictionary by word counts in descending order\n",
    "topwords = sorted(worddict, key=worddict.get, reverse=True)\n",
    "\n",
    "# Print the top 20 words and their counts\n",
    "print(\"Top 20 words and their counts:\")\n",
    "for word in topwords[:20]:\n",
    "    print(f\"{word}: {worddict[word]}\")\n",
    "\n",
    "# Create a text-based histogram for the top 20 words\n",
    "print(\"\\nText-based histogram for the top 20 words:\")\n",
    "for word in topwords[:20]:\n",
    "    print(f\"{word.ljust(20)} {('*' * (worddict[word] // 10))}\")\n"
   ]
  },
  {
   "cell_type": "code",
   "execution_count": 2,
   "id": "3dde0bfd-f70c-4b9f-916f-49bd6f187f00",
   "metadata": {},
   "outputs": [],
   "source": [
    "topwords = sorted(worddict, key = worddict.get, reverse=True)\n"
   ]
  },
  {
   "cell_type": "code",
   "execution_count": 4,
   "id": "557fb2f9-e5bd-42e2-9b34-a6ebd4fa5ae3",
   "metadata": {},
   "outputs": [],
   "source": [
    "for word in topwords[:20]:\n",
    "    print(word, worddict[word])\n"
   ]
  },
  {
   "cell_type": "code",
   "execution_count": 5,
   "id": "a2ad3e67-5efa-4cdd-b2de-88fb544f2eb3",
   "metadata": {},
   "outputs": [
    {
     "ename": "SyntaxError",
     "evalue": "invalid syntax (1074868991.py, line 1)",
     "output_type": "error",
     "traceback": [
      "\u001b[0;36m  Cell \u001b[0;32mIn[5], line 1\u001b[0;36m\u001b[0m\n\u001b[0;31m    You can even make a hacky histogram for this by creating a '#' for every 10 occurences\u001b[0m\n\u001b[0m        ^\u001b[0m\n\u001b[0;31mSyntaxError\u001b[0m\u001b[0;31m:\u001b[0m invalid syntax\n"
     ]
    }
   ],
   "source": [
    "You can even make a hacky histogram for this by creating a '#' for every 10 occurences"
   ]
  },
  {
   "cell_type": "code",
   "execution_count": 6,
   "id": "48c551b3-9ad9-47e5-b8ae-c947fb10bcf5",
   "metadata": {},
   "outputs": [],
   "source": [
    "for word in topwords[:20]:\n",
    "    print(word+(20 - len(word))*' ', (worddict[word]//10)*'*')"
   ]
  },
  {
   "cell_type": "code",
   "execution_count": 10,
   "id": "aeaa885f-f00c-4eaa-a312-47b99b21a8d9",
   "metadata": {},
   "outputs": [
    {
     "ename": "SyntaxError",
     "evalue": "invalid syntax (4068961475.py, line 1)",
     "output_type": "error",
     "traceback": [
      "\u001b[0;36m  Cell \u001b[0;32mIn[10], line 1\u001b[0;36m\u001b[0m\n\u001b[0;31m    Exercise 2\u001b[0m\n\u001b[0m             ^\u001b[0m\n\u001b[0;31mSyntaxError\u001b[0m\u001b[0;31m:\u001b[0m invalid syntax\n"
     ]
    }
   ],
   "source": [
    "Exercise 2\n"
   ]
  },
  {
   "cell_type": "code",
   "execution_count": 11,
   "id": "ec247534-ef68-4958-83ef-1a6743bc3812",
   "metadata": {},
   "outputs": [],
   "source": [
    "class BankAccount:\n",
    "    def __init__(self, balance):\n",
    "        self.balance = balance\n",
    "        \n",
    "    def withdraw(self, amount):\n",
    "        self.balance = self.balance - amount"
   ]
  },
  {
   "cell_type": "code",
   "execution_count": 12,
   "id": "c78142b7-b6c3-4de7-a703-05e5f8702936",
   "metadata": {},
   "outputs": [
    {
     "name": "stdout",
     "output_type": "stream",
     "text": [
      "100\n"
     ]
    },
    {
     "data": {
      "text/plain": [
       "80"
      ]
     },
     "execution_count": 12,
     "metadata": {},
     "output_type": "execute_result"
    }
   ],
   "source": [
    "myaccount = BankAccount(100)\n",
    "print(myaccount.balance)\n",
    "myaccount.withdraw(20)\n",
    "myaccount.balance"
   ]
  },
  {
   "cell_type": "code",
   "execution_count": 13,
   "id": "7f4cec3b-39db-4821-86ad-c70b835c881a",
   "metadata": {},
   "outputs": [],
   "source": [
    "class Rocket:\n",
    "    def __init__(self, name, distance):\n",
    "        self.name = name\n",
    "        self.distance = distance\n",
    "\n",
    "    def launch(self):\n",
    "        return \"%s has reached %s\" % (self.name, self.distance)\n",
    "    \n",
    "    def get_maker(self):\n",
    "        return \"%s Launched\" % self.name\n",
    "\n",
    "\n",
    "class MarsRover(Rocket): # inheriting from the base class\n",
    "    def __init__(self, name, distance, maker):\n",
    "        Rocket.__init__(self, name, distance)\n",
    "        self.maker = maker\n",
    "\n",
    "    def get_maker(self):\n",
    "        return \"%s Launched by %s\" % (self.name, self.maker)"
   ]
  },
  {
   "cell_type": "code",
   "execution_count": 14,
   "id": "2b5c591c-9098-4edd-9a29-7a497ece2e7d",
   "metadata": {},
   "outputs": [
    {
     "name": "stdout",
     "output_type": "stream",
     "text": [
      "Simple rocket has reached till stratosphere\n",
      "Mangalyaan has reached till Mars\n",
      "Simple rocket Launched\n",
      "Mangalyaan Launched by ISRO\n"
     ]
    }
   ],
   "source": [
    "x = Rocket(\"Simple rocket\", \"till stratosphere\")\n",
    "y = MarsRover(\"Mangalyaan\", \"till Mars\", \"ISRO\")\n",
    "print(x.launch())\n",
    "print(y.launch()) # dispatches to Ricket's launch\n",
    "print(x.get_maker())\n",
    "print(y.get_maker())"
   ]
  },
  {
   "cell_type": "code",
   "execution_count": 15,
   "id": "c2f100d2-1f0d-4c00-b9b7-5715eafb322c",
   "metadata": {},
   "outputs": [
    {
     "name": "stdout",
     "output_type": "stream",
     "text": [
      "Regular Account:\n",
      "Initial Balance: 100\n",
      "Balance after withdrawal: -20\n",
      "\n",
      "Error Checking Account:\n",
      "Initial Balance: 100\n",
      "Withdrawal Not Allowed\n"
     ]
    }
   ],
   "source": [
    "class BankAccount:\n",
    "    def __init__(self, balance):\n",
    "        self.balance = balance\n",
    "        \n",
    "    def withdraw(self, amount):\n",
    "        self.balance -= amount\n",
    "\n",
    "class ECBankAccount(BankAccount):\n",
    "    def __init__(self, balance):\n",
    "        super().__init__(balance)\n",
    "        \n",
    "    def withdraw(self, amount):\n",
    "        if amount > self.balance:\n",
    "            raise ValueError(\"Withdrawal Not Allowed\")\n",
    "        else:\n",
    "            super().withdraw(amount)\n",
    "\n",
    "# Create a regular bank account and an error checking bank account\n",
    "regular_account = BankAccount(100)\n",
    "error_checking_account = ECBankAccount(100)\n",
    "\n",
    "# Attempt to withdraw more than the balance from the regular account\n",
    "print(\"Regular Account:\")\n",
    "print(f\"Initial Balance: {regular_account.balance}\")\n",
    "try:\n",
    "    regular_account.withdraw(120)\n",
    "    print(f\"Balance after withdrawal: {regular_account.balance}\")\n",
    "except ValueError as e:\n",
    "    print(e)\n",
    "\n",
    "# Attempt to withdraw more than the balance from the error checking account\n",
    "print(\"\\nError Checking Account:\")\n",
    "print(f\"Initial Balance: {error_checking_account.balance}\")\n",
    "try:\n",
    "    error_checking_account.withdraw(120)\n",
    "    print(f\"Balance after withdrawal: {error_checking_account.balance}\")\n",
    "except ValueError as e:\n",
    "    print(e)\n"
   ]
  },
  {
   "cell_type": "code",
   "execution_count": 16,
   "id": "995b6cfe-fd87-49e0-9159-13a2d2c4ae3e",
   "metadata": {},
   "outputs": [
    {
     "data": {
      "text/plain": [
       "-20"
      ]
     },
     "execution_count": 16,
     "metadata": {},
     "output_type": "execute_result"
    }
   ],
   "source": [
    "x = BankAccount(100)\n",
    "x.withdraw(120)\n",
    "x.balance"
   ]
  },
  {
   "cell_type": "code",
   "execution_count": 17,
   "id": "7f22df40-e8bb-45fb-8ecb-34e242e7d28b",
   "metadata": {},
   "outputs": [
    {
     "ename": "ValueError",
     "evalue": "Withdrawal Not Allowed",
     "output_type": "error",
     "traceback": [
      "\u001b[0;31m---------------------------------------------------------------------------\u001b[0m",
      "\u001b[0;31mValueError\u001b[0m                                Traceback (most recent call last)",
      "Cell \u001b[0;32mIn[17], line 2\u001b[0m\n\u001b[1;32m      1\u001b[0m y \u001b[38;5;241m=\u001b[39m ECBankAccount(\u001b[38;5;241m100\u001b[39m)\n\u001b[0;32m----> 2\u001b[0m \u001b[43my\u001b[49m\u001b[38;5;241;43m.\u001b[39;49m\u001b[43mwithdraw\u001b[49m\u001b[43m(\u001b[49m\u001b[38;5;241;43m120\u001b[39;49m\u001b[43m)\u001b[49m\n",
      "Cell \u001b[0;32mIn[15], line 14\u001b[0m, in \u001b[0;36mECBankAccount.withdraw\u001b[0;34m(self, amount)\u001b[0m\n\u001b[1;32m     12\u001b[0m \u001b[38;5;28;01mdef\u001b[39;00m \u001b[38;5;21mwithdraw\u001b[39m(\u001b[38;5;28mself\u001b[39m, amount):\n\u001b[1;32m     13\u001b[0m     \u001b[38;5;28;01mif\u001b[39;00m amount \u001b[38;5;241m>\u001b[39m \u001b[38;5;28mself\u001b[39m\u001b[38;5;241m.\u001b[39mbalance:\n\u001b[0;32m---> 14\u001b[0m         \u001b[38;5;28;01mraise\u001b[39;00m \u001b[38;5;167;01mValueError\u001b[39;00m(\u001b[38;5;124m\"\u001b[39m\u001b[38;5;124mWithdrawal Not Allowed\u001b[39m\u001b[38;5;124m\"\u001b[39m)\n\u001b[1;32m     15\u001b[0m     \u001b[38;5;28;01melse\u001b[39;00m:\n\u001b[1;32m     16\u001b[0m         \u001b[38;5;28msuper\u001b[39m()\u001b[38;5;241m.\u001b[39mwithdraw(amount)\n",
      "\u001b[0;31mValueError\u001b[0m: Withdrawal Not Allowed"
     ]
    }
   ],
   "source": [
    "y = ECBankAccount(100)\n",
    "y.withdraw(120)"
   ]
  },
  {
   "cell_type": "code",
   "execution_count": 18,
   "id": "91baed4f-2eb0-4844-9a6a-971db39abf08",
   "metadata": {},
   "outputs": [
    {
     "data": {
      "text/plain": [
       "100"
      ]
     },
     "execution_count": 18,
     "metadata": {},
     "output_type": "execute_result"
    }
   ],
   "source": [
    "y.balance"
   ]
  },
  {
   "cell_type": "code",
   "execution_count": null,
   "id": "6e77d492-434f-4628-8e0d-3691483d76c7",
   "metadata": {},
   "outputs": [],
   "source": []
  }
 ],
 "metadata": {
  "kernelspec": {
   "display_name": "Python 3 (ipykernel)",
   "language": "python",
   "name": "python3"
  },
  "language_info": {
   "codemirror_mode": {
    "name": "ipython",
    "version": 3
   },
   "file_extension": ".py",
   "mimetype": "text/x-python",
   "name": "python",
   "nbconvert_exporter": "python",
   "pygments_lexer": "ipython3",
   "version": "3.12.3"
  }
 },
 "nbformat": 4,
 "nbformat_minor": 5
}
