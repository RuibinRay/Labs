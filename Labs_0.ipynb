{
 "cells": [
  {
   "cell_type": "code",
   "execution_count": null,
   "id": "80e98f94-9b11-4d22-abd5-33014bc6be19",
   "metadata": {},
   "outputs": [],
   "source": [
    "EXERCISE 1: A Simple Calculator\n",
    "Here is a fun little calculator which exercises what you have learnt so far.\n",
    "\n",
    "It has only 4 operations - Addition, Subtraction, Multiplication and Divison\n",
    "\n",
    "Notice the use of no-operation pass. It allows us to incrementally code by doing nothing to start, and put in functionality over time.\n"
   ]
  },
  {
   "cell_type": "code",
   "execution_count": 2,
   "id": "cc5fd4f5-17c5-4a6e-a512-9dcd00487b52",
   "metadata": {},
   "outputs": [
    {
     "name": "stdout",
     "output_type": "stream",
     "text": [
      "Select operation\n",
      "\n",
      "1. Addition\n",
      "2. Subtraction\n",
      "3. Multiplication\n",
      "4. Division\n"
     ]
    },
    {
     "name": "stdin",
     "output_type": "stream",
     "text": [
      "\n",
      "Enter choice (1/2/3/4):  2\n",
      "\n",
      "Enter first number:  1\n",
      "\n",
      "Enter second number:  5\n"
     ]
    },
    {
     "name": "stdout",
     "output_type": "stream",
     "text": [
      "\n",
      "The result of 1.0 - 5.0 is -4.0\n"
     ]
    }
   ],
   "source": [
    "\n",
    "print(\"Select operation\\n\")\n",
    "print(\"1. Addition\")\n",
    "print(\"2. Subtraction\")\n",
    "print(\"3. Multiplication\")\n",
    "print(\"4. Division\")\n",
    "\n",
    "# Take input from the user \n",
    "choice = input(\"\\nEnter choice (1/2/3/4): \")\n",
    "\n",
    "# Convert the input to a floating-point number\n",
    "num1 = float(input(\"\\nEnter first number: \"))\n",
    "num2 = float(input(\"\\nEnter second number: \"))\n",
    "\n",
    "if choice == '1':\n",
    "    # Addition\n",
    "    result = num1 + num2\n",
    "    print(f\"\\nThe result of {num1} + {num2} is {result}\")\n",
    "\n",
    "elif choice == '2':\n",
    "    # Subtraction\n",
    "    result = num1 - num2\n",
    "    print(f\"\\nThe result of {num1} - {num2} is {result}\")\n",
    "\n",
    "elif choice == '3':\n",
    "    # Multiplication\n",
    "    result = num1 * num2\n",
    "    print(f\"\\nThe result of {num1} * {num2} is {result}\")\n",
    "\n",
    "elif choice == '4':\n",
    "    # Division\n",
    "    if num2 != 0:\n",
    "        result = num1 / num2\n",
    "        print(f\"\\nThe result of {num1} / {num2} is {result}\")\n",
    "    else:\n",
    "        print(\"\\nError! Division by zero.\")\n",
    "\n",
    "else:\n",
    "    print(\"\\nInvalid input\")\n"
   ]
  },
  {
   "cell_type": "code",
   "execution_count": null,
   "id": "150761dc-c12e-433c-86ff-dbf9e22578ad",
   "metadata": {},
   "outputs": [],
   "source": [
    "EXERCISE 2: List like objects and functions on them\n",
    "Materialize lists using\n",
    "\n",
    "range(50)\n",
    "The function application enumerate(list of alphabets)\n",
    "Write your own enumerate function for a list using the function zip."
   ]
  },
  {
   "cell_type": "code",
   "execution_count": 3,
   "id": "7f6599bf-10b5-4223-bc00-d546ac84c74a",
   "metadata": {},
   "outputs": [
    {
     "name": "stdout",
     "output_type": "stream",
     "text": [
      "[0, 1, 2, 3, 4, 5, 6, 7, 8, 9, 10, 11, 12, 13, 14, 15, 16, 17, 18, 19, 20, 21, 22, 23, 24, 25, 26, 27, 28, 29, 30, 31, 32, 33, 34, 35, 36, 37, 38, 39, 40, 41, 42, 43, 44, 45, 46, 47, 48, 49]\n"
     ]
    }
   ],
   "source": [
    "# Create a list of numbers from 0 to 49\n",
    "numbers = list(range(50))\n",
    "print(numbers)\n"
   ]
  },
  {
   "cell_type": "code",
   "execution_count": 4,
   "id": "f6b07c63-0224-4649-9741-2985ad7e6a64",
   "metadata": {},
   "outputs": [
    {
     "name": "stdout",
     "output_type": "stream",
     "text": [
      "[(0, 'a'), (1, 'b'), (2, 'c'), (3, 'd'), (4, 'e')]\n"
     ]
    }
   ],
   "source": [
    "# List of alphabets\n",
    "alphabets = ['a', 'b', 'c', 'd', 'e']\n",
    "\n",
    "# Use enumerate to get an index, value pair\n",
    "enumerated_alphabets = list(enumerate(alphabets))\n",
    "print(enumerated_alphabets)\n"
   ]
  },
  {
   "cell_type": "code",
   "execution_count": 5,
   "id": "f15bb340-fd82-4564-bf3d-65944ca1e27e",
   "metadata": {},
   "outputs": [
    {
     "name": "stdout",
     "output_type": "stream",
     "text": [
      "[(0, 'a'), (1, 'b'), (2, 'c'), (3, 'd'), (4, 'e')]\n"
     ]
    }
   ],
   "source": [
    "def custom_enumerate(sequence, start=0):\n",
    "    return zip(range(start, start + len(sequence)), sequence)\n",
    "\n",
    "# Test the custom enumerate function\n",
    "custom_enumerated_alphabets = list(custom_enumerate(alphabets))\n",
    "print(custom_enumerated_alphabets)\n"
   ]
  },
  {
   "cell_type": "code",
   "execution_count": 6,
   "id": "052f9e55-6640-408f-8e39-e3f38322c271",
   "metadata": {},
   "outputs": [
    {
     "ename": "SyntaxError",
     "evalue": "invalid syntax (4242067592.py, line 1)",
     "output_type": "error",
     "traceback": [
      "\u001b[0;36m  Cell \u001b[0;32mIn[6], line 1\u001b[0;36m\u001b[0m\n\u001b[0;31m    EXERCISE 3: Count the special characters\u001b[0m\n\u001b[0m             ^\u001b[0m\n\u001b[0;31mSyntaxError\u001b[0m\u001b[0;31m:\u001b[0m invalid syntax\n"
     ]
    }
   ],
   "source": [
    "EXERCISE 3: Count the special characters\n",
    "Consider the string \"HelloWorld,123,ThisIsUniv.Ai\" (not including the quotes). Find the number of uppercase, lowercase, special character and numerical characters.\n",
    "\n",
    "my_string = \"HelloWorld,123,ThisIsUniv.Ai\"\n",
    "# your code here\n",
    "counter(string.ascii_uppercase, my_string),counter(string.ascii_lowercase, my_string),counter(string.digits, my_string),counter(string.punctuation, my_string)"
   ]
  },
  {
   "cell_type": "code",
   "execution_count": 7,
   "id": "02581b0a-1fb9-4897-8f6f-5a0c8913f5aa",
   "metadata": {},
   "outputs": [
    {
     "name": "stdout",
     "output_type": "stream",
     "text": [
      "Uppercase characters: 6\n",
      "Lowercase characters: 16\n",
      "Numerical characters: 3\n",
      "Special characters: 3\n"
     ]
    }
   ],
   "source": [
    "import string\n",
    "\n",
    "# Define the input string\n",
    "my_string = \"HelloWorld,123,ThisIsUniv.Ai\"\n",
    "\n",
    "# Define the counter function\n",
    "def counter(char_set, input_string):\n",
    "    return sum(1 for char in input_string if char in char_set)\n",
    "\n",
    "# Count the number of each type of character\n",
    "uppercase_count = counter(string.ascii_uppercase, my_string)\n",
    "lowercase_count = counter(string.ascii_lowercase, my_string)\n",
    "numerical_count = counter(string.digits, my_string)\n",
    "special_count = counter(string.punctuation, my_string)\n",
    "\n",
    "# Print the results\n",
    "print(f\"Uppercase characters: {uppercase_count}\")\n",
    "print(f\"Lowercase characters: {lowercase_count}\")\n",
    "print(f\"Numerical characters: {numerical_count}\")\n",
    "print(f\"Special characters: {special_count}\")\n"
   ]
  },
  {
   "cell_type": "code",
   "execution_count": null,
   "id": "9fbefcab-f610-4fdf-a3d0-e7f11fbe5116",
   "metadata": {},
   "outputs": [],
   "source": [
    "EXERCISE 4: Read a file and parse words from it\n",
    "Read Julius Caesar. Get each line. Remove newline characters from each line. Split the line to get the words from the line. Lowercase them. Print the first 1000 words, lowercased.\n",
    "\n",
    "# your code here"
   ]
  },
  {
   "cell_type": "code",
   "execution_count": 8,
   "id": "094d2435-8548-45f7-b47f-4ae5f7bb27f8",
   "metadata": {},
   "outputs": [
    {
     "name": "stdout",
     "output_type": "stream",
     "text": [
      "The file julius_caesar.txt was not found.\n",
      "First 1000 words (lowercased):\n",
      "[]\n"
     ]
    }
   ],
   "source": [
    "def read_and_parse_file(file_path):\n",
    "    words = []\n",
    "    try:\n",
    "        with open(file_path, 'r') as file:\n",
    "            for line in file:\n",
    "                # Remove newline characters and split the line into words\n",
    "                line_words = line.strip().split()\n",
    "                # Convert words to lowercase and extend to the words list\n",
    "                words.extend(word.lower() for word in line_words)\n",
    "    except FileNotFoundError:\n",
    "        print(f\"The file {file_path} was not found.\")\n",
    "        return []\n",
    "\n",
    "    return words\n",
    "\n",
    "# Specify the path to the Julius Caesar text file\n",
    "file_path = 'julius_caesar.txt'\n",
    "\n",
    "# Read and parse the file\n",
    "parsed_words = read_and_parse_file(file_path)\n",
    "\n",
    "# Print the first 1000 words, lowercased\n",
    "print(\"First 1000 words (lowercased):\")\n",
    "print(parsed_words[:1000])\n"
   ]
  },
  {
   "cell_type": "code",
   "execution_count": null,
   "id": "a267320f-0a36-49af-ac3e-5f63a724fa07",
   "metadata": {},
   "outputs": [],
   "source": []
  }
 ],
 "metadata": {
  "kernelspec": {
   "display_name": "Python 3 (ipykernel)",
   "language": "python",
   "name": "python3"
  },
  "language_info": {
   "codemirror_mode": {
    "name": "ipython",
    "version": 3
   },
   "file_extension": ".py",
   "mimetype": "text/x-python",
   "name": "python",
   "nbconvert_exporter": "python",
   "pygments_lexer": "ipython3",
   "version": "3.12.3"
  }
 },
 "nbformat": 4,
 "nbformat_minor": 5
}
